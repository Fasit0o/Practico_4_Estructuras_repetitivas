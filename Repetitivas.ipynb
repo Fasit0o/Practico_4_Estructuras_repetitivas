{
 "cells": [
  {
   "cell_type": "code",
   "execution_count": null,
   "id": "93589c8e",
   "metadata": {},
   "outputs": [],
   "source": [
    "#1) Crea un programa que imprima en pantalla todos los números enteros desde 0 hasta 100\n",
    "#(incluyendo ambos extremos), en orden creciente, mostrando un número por línea.\n",
    "\n",
    "for i in range(0, 101):\n",
    "    print(i)"
   ]
  },
  {
   "cell_type": "code",
   "execution_count": null,
   "id": "68e0a939",
   "metadata": {},
   "outputs": [],
   "source": [
    "#2) Desarrolla un programa que solicite al usuario un número entero y determine la cantidad de dígitos que contiene.\n",
    "\n",
    "numero = int(input(\"Ingrese un número entero: \"))\n",
    "numero_abs = abs(numero)\n",
    "cantidad_digitos = len(str(numero_abs))\n",
    "print(\"El número tiene\", cantidad_digitos, \"dígitos.\")"
   ]
  },
  {
   "cell_type": "code",
   "execution_count": 10,
   "id": "b82eeb07",
   "metadata": {},
   "outputs": [
    {
     "name": "stdout",
     "output_type": "stream",
     "text": [
      "La suma de los números comprendidos entre 1 y 5 es: 9\n"
     ]
    }
   ],
   "source": [
    "#3) Escribe un programa que sume todos los números enteros comprendidos entre dos valores\n",
    "#dados por el usuario, excluyendo esos dos valores.\n",
    "\n",
    "num1 = int(input(\"Ingrese el primer número: \"))\n",
    "num2 = int(input(\"Ingrese el segundo número: \"))\n",
    "\n",
    "if num1 > num2:\n",
    "    num1, num2 = num2, num1  # intercambiamos los valores\n",
    "\n",
    "suma = 0\n",
    "\n",
    "for i in range(num1 + 1, num2):\n",
    "    suma += i  # vamos sumando cada número\n",
    "\n",
    "print(\"La suma de los números comprendidos entre\", num1, \"y\", num2, \"es:\", suma)"
   ]
  },
  {
   "cell_type": "code",
   "execution_count": null,
   "id": "cc8219d4",
   "metadata": {},
   "outputs": [],
   "source": [
    "#4) Elabora un programa que permita al usuario ingresar números enteros y los sume en\n",
    "#secuencia. El programa debe detenerse y mostrar el total acumulado cuando el usuario ingrese un 0.\n",
    "\n",
    "suma = 0\n",
    "num = 1\n",
    "while num != 0:\n",
    "    num = int(input(\"Ingrese un número entero: \"))\n",
    "    suma += num\n",
    "\n",
    "print(\"El total acumulado es:\", suma)"
   ]
  },
  {
   "cell_type": "code",
   "execution_count": null,
   "id": "169b5acd",
   "metadata": {},
   "outputs": [],
   "source": [
    "#5) Crea un juego en el que el usuario deba adivinar un número aleatorio entre 0 y 9. Al final, el\n",
    "#programa debe mostrar cuántos intentos fueron necesarios para acertar el número.\n",
    "\n",
    "import random\n",
    "\n",
    "num = random.randint(0, 9)\n",
    "intentos = 0\n",
    "\n",
    "while num != int(input(\"Ingrese un número: \")):\n",
    "    intentos += 1\n",
    "    num = random.randint(0, 9)\n",
    "\n",
    "print(\"El número era\", num, \"y tus intentos fueron\", intentos)"
   ]
  },
  {
   "cell_type": "code",
   "execution_count": null,
   "id": "061302dc",
   "metadata": {},
   "outputs": [],
   "source": [
    "#6) Desarrolla un programa que imprima en pantalla todos los números pares comprendidos\n",
    "#entre 0 y 100, en orden decreciente.\n",
    "\n",
    "for i in range(100, -1, -2):\n",
    "    print(i)\n"
   ]
  }
 ],
 "metadata": {
  "kernelspec": {
   "display_name": "Python 3",
   "language": "python",
   "name": "python3"
  },
  "language_info": {
   "codemirror_mode": {
    "name": "ipython",
    "version": 3
   },
   "file_extension": ".py",
   "mimetype": "text/x-python",
   "name": "python",
   "nbconvert_exporter": "python",
   "pygments_lexer": "ipython3",
   "version": "3.13.6"
  }
 },
 "nbformat": 4,
 "nbformat_minor": 5
}
