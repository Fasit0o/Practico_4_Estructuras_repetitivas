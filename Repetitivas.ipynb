{
 "cells": [
  {
   "cell_type": "code",
   "execution_count": null,
   "id": "93589c8e",
   "metadata": {},
   "outputs": [],
   "source": [
    "#1) Crea un programa que imprima en pantalla todos los números enteros desde 0 hasta 100\n",
    "#(incluyendo ambos extremos), en orden creciente, mostrando un número por línea.\n",
    "\n",
    "for i in range(0, 101):\n",
    "    print(i)"
   ]
  },
  {
   "cell_type": "code",
   "execution_count": null,
   "id": "68e0a939",
   "metadata": {},
   "outputs": [],
   "source": [
    "#2) Desarrolla un programa que solicite al usuario un número entero y determine la cantidad de dígitos que contiene.\n",
    "\n",
    "numero = int(input(\"Ingrese un número entero: \"))\n",
    "numero_abs = abs(numero)\n",
    "cantidad_digitos = len(str(numero_abs))\n",
    "print(\"El número tiene\", cantidad_digitos, \"dígitos.\")"
   ]
  },
  {
   "cell_type": "code",
   "execution_count": null,
   "id": "b82eeb07",
   "metadata": {},
   "outputs": [],
   "source": [
    "#3) Escribe un programa que sume todos los números enteros comprendidos entre dos valores\n",
    "#dados por el usuario, excluyendo esos dos valores.\n",
    "\n",
    "num1 = int(input(\"Ingrese el primer número: \"))\n",
    "num2 = int(input(\"Ingrese el segundo número: \"))\n",
    "\n",
    "if num1 > num2:\n",
    "    num1, num2 = num2, num1 \n",
    "\n",
    "suma = 0\n",
    "\n",
    "for i in range(num1 + 1, num2):\n",
    "    suma += i \n",
    "\n",
    "print(\"La suma de los números comprendidos entre\", num1, \"y\", num2, \"es:\", suma)"
   ]
  },
  {
   "cell_type": "code",
   "execution_count": null,
   "id": "cc8219d4",
   "metadata": {},
   "outputs": [],
   "source": [
    "#4) Elabora un programa que permita al usuario ingresar números enteros y los sume en\n",
    "#secuencia. El programa debe detenerse y mostrar el total acumulado cuando el usuario ingrese un 0.\n",
    "\n",
    "suma = 0\n",
    "num = 1\n",
    "while num != 0:\n",
    "    num = int(input(\"Ingrese un número entero: \"))\n",
    "    suma += num\n",
    "\n",
    "print(\"El total acumulado es:\", suma)"
   ]
  },
  {
   "cell_type": "code",
   "execution_count": null,
   "id": "169b5acd",
   "metadata": {},
   "outputs": [],
   "source": [
    "#5) Crea un juego en el que el usuario deba adivinar un número aleatorio entre 0 y 9. Al final, el\n",
    "#programa debe mostrar cuántos intentos fueron necesarios para acertar el número.\n",
    "\n",
    "import random\n",
    "\n",
    "num = random.randint(0, 9)\n",
    "intentos = 0\n",
    "\n",
    "while num != int(input(\"Ingrese un número: \")):\n",
    "    intentos += 1\n",
    "    num = random.randint(0, 9)\n",
    "\n",
    "print(\"El número era\", num, \"y tus intentos fueron\", intentos)"
   ]
  },
  {
   "cell_type": "code",
   "execution_count": null,
   "id": "061302dc",
   "metadata": {},
   "outputs": [],
   "source": [
    "#6) Desarrolla un programa que imprima en pantalla todos los números pares comprendidos\n",
    "#entre 0 y 100, en orden decreciente.\n",
    "\n",
    "for i in range(100, -1, -2):\n",
    "    print(i)\n"
   ]
  },
  {
   "cell_type": "code",
   "execution_count": null,
   "id": "694f5bc5",
   "metadata": {},
   "outputs": [],
   "source": [
    "#7) Crea un programa que calcule la suma de todos los números comprendidos entre 0 y un\n",
    "#número entero positivo indicado por el usuario.\n",
    "\n",
    "n = int(input(\"Ingrese un número entero positivo: \"))\n",
    "suma = 0\n",
    "\n",
    "for i in range(n + 1):\n",
    "    suma += i \n",
    "\n",
    "print(\"La suma de los números desde 0 hasta\", n, \"es:\", suma)"
   ]
  },
  {
   "cell_type": "code",
   "execution_count": null,
   "id": "3d64f98e",
   "metadata": {},
   "outputs": [],
   "source": [
    "#8) Escribe un programa que permita al usuario ingresar 100 números enteros. Luego, el\n",
    "#programa debe indicar cuántos de estos números son pares, cuántos son impares, cuántos son\n",
    "#negativos y cuántos son positivos. (Nota: para probar el programa puedes usar una cantidad\n",
    "#menor, pero debe estar preparado para procesar 100 números con un solo cambio).\n",
    "\n",
    "contador = 0\n",
    "contador_par = 0\n",
    "contador_impar = 0\n",
    "contador_negativo = 0\n",
    "contador_positivo = 0\n",
    "\n",
    "while contador < 4:\n",
    "    numero = int(input(\"Ingrese un número entero: \"))\n",
    "    contador += 1\n",
    "    if numero % 2 == 0:\n",
    "        contador_par += 1\n",
    "    else:\n",
    "        contador_impar += 1\n",
    "\n",
    "    if numero < 0:\n",
    "        contador_negativo += 1\n",
    "    else:\n",
    "        contador_positivo += 1\n",
    "\n",
    "print(\"Números pares:\", contador_par)\n",
    "print(\"Números impares:\", contador_impar)\n",
    "print(\"Números negativos:\", contador_negativo)\n",
    "print(\"Números positivos:\", contador_positivo)\n",
    "\n",
    "\n",
    "\n"
   ]
  },
  {
   "cell_type": "code",
   "execution_count": null,
   "id": "73256ae9",
   "metadata": {},
   "outputs": [],
   "source": [
    "#9) Elabora un programa que permita al usuario ingresar 100 números enteros y luego calcule la\n",
    "#media de esos valores. (Nota: puedes probar el programa con una cantidad menor, pero debe\n",
    "#poder procesar 100 números cambiando solo un valor).\n",
    "\n",
    "\n",
    "cantidad = 100\n",
    "suma = 0\n",
    "\n",
    "for i in range(cantidad):\n",
    "    numero = int(input(f\"Ingrese el número {i+1}: \"))\n",
    "    suma += numero  \n",
    "\n",
    "media = suma / cantidad\n",
    "\n",
    "print(\"La media de los números ingresados es:\", media)"
   ]
  },
  {
   "cell_type": "code",
   "execution_count": null,
   "id": "e38106fc",
   "metadata": {},
   "outputs": [],
   "source": [
    "#10) Escribe un programa que invierta el orden de los dígitos de un número ingresado por el\n",
    "#usuario. Ejemplo: si el usuario ingresa 547, el programa debe mostrar 745\n",
    "\n",
    "numero = int(input(\"Ingrese un número entero: \"))\n",
    "\n",
    "signo = -1 if numero < 0 else 1\n",
    "\n",
    "numero_str = str(abs(numero))\n",
    "\n",
    "numero_invertido_str = numero_str[::-1]\n",
    "\n",
    "numero_invertido = int(numero_invertido_str) * signo\n",
    "\n",
    "print(\"El número invertido es:\", numero_invertido)"
   ]
  }
 ],
 "metadata": {
  "kernelspec": {
   "display_name": "Python 3",
   "language": "python",
   "name": "python3"
  },
  "language_info": {
   "codemirror_mode": {
    "name": "ipython",
    "version": 3
   },
   "file_extension": ".py",
   "mimetype": "text/x-python",
   "name": "python",
   "nbconvert_exporter": "python",
   "pygments_lexer": "ipython3",
   "version": "3.13.6"
  }
 },
 "nbformat": 4,
 "nbformat_minor": 5
}
